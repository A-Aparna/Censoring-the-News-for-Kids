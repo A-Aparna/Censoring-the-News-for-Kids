{
  "nbformat": 4,
  "nbformat_minor": 0,
  "metadata": {
    "kernelspec": {
      "display_name": "Python 3",
      "language": "python",
      "name": "python3"
    },
    "language_info": {
      "codemirror_mode": {
        "name": "ipython",
        "version": 3
      },
      "file_extension": ".py",
      "mimetype": "text/x-python",
      "name": "python",
      "nbconvert_exporter": "python",
      "pygments_lexer": "ipython3",
      "version": "3.7.1"
    },
    "colab": {
      "name": "Copy of Censor or Uncensor.ipynb",
      "provenance": [],
      "collapsed_sections": [],
      "toc_visible": true
    }
  },
  "cells": [
    {
      "cell_type": "code",
      "metadata": {
        "id": "yZm1EQTrI_C-",
        "colab_type": "code",
        "colab": {
          "base_uri": "https://localhost:8080/",
          "height": 51
        },
        "outputId": "13b8fc87-d134-4eaf-f596-42341e7b0b65"
      },
      "source": [
        "#Import Libraries\n",
        "import pandas as pd\n",
        "import numpy as np\n",
        "from sklearn.model_selection import train_test_split\n",
        "from sklearn.linear_model import LogisticRegression\n",
        "import nltk\n",
        "nltk.download('stopwords') \n",
        "from nltk.corpus import stopwords\n",
        "from sklearn.feature_extraction.text import TfidfVectorizer, CountVectorizer\n",
        "from sklearn.metrics import classification_report,confusion_matrix,accuracy_score,auc,roc_auc_score\n",
        "from sklearn.naive_bayes import MultinomialNB\n",
        "from sklearn.svm import SVC\n",
        "from sklearn.decomposition import TruncatedSVD\n",
        "import xgboost as xgb\n",
        "import pickle"
      ],
      "execution_count": null,
      "outputs": [
        {
          "output_type": "stream",
          "text": [
            "[nltk_data] Downloading package stopwords to /root/nltk_data...\n",
            "[nltk_data]   Package stopwords is already up-to-date!\n"
          ],
          "name": "stdout"
        }
      ]
    },
    {
      "cell_type": "code",
      "metadata": {
        "id": "2wYgHxMrKv1V",
        "colab_type": "code",
        "colab": {
          "base_uri": "https://localhost:8080/",
          "height": 357
        },
        "outputId": "50d3bace-cda4-486f-9fd9-9d852f588ba5"
      },
      "source": [
        "import zipfile\n",
        "!wget http://nlp.stanford.edu/data/glove.840B.300d.zip\n",
        "zip_file = zipfile.ZipFile('glove.840B.300d.zip')\n",
        "zip_file.extractall('./embeddings/')"
      ],
      "execution_count": null,
      "outputs": [
        {
          "output_type": "stream",
          "text": [
            "--2020-06-20 22:11:17--  http://nlp.stanford.edu/data/glove.840B.300d.zip\n",
            "Resolving nlp.stanford.edu (nlp.stanford.edu)... 171.64.67.140\n",
            "Connecting to nlp.stanford.edu (nlp.stanford.edu)|171.64.67.140|:80... connected.\n",
            "HTTP request sent, awaiting response... 302 Found\n",
            "Location: https://nlp.stanford.edu/data/glove.840B.300d.zip [following]\n",
            "--2020-06-20 22:11:18--  https://nlp.stanford.edu/data/glove.840B.300d.zip\n",
            "Connecting to nlp.stanford.edu (nlp.stanford.edu)|171.64.67.140|:443... connected.\n",
            "HTTP request sent, awaiting response... 301 Moved Permanently\n",
            "Location: http://downloads.cs.stanford.edu/nlp/data/glove.840B.300d.zip [following]\n",
            "--2020-06-20 22:11:18--  http://downloads.cs.stanford.edu/nlp/data/glove.840B.300d.zip\n",
            "Resolving downloads.cs.stanford.edu (downloads.cs.stanford.edu)... 171.64.64.22\n",
            "Connecting to downloads.cs.stanford.edu (downloads.cs.stanford.edu)|171.64.64.22|:80... connected.\n",
            "HTTP request sent, awaiting response... 200 OK\n",
            "Length: 2176768927 (2.0G) [application/zip]\n",
            "Saving to: ‘glove.840B.300d.zip.1’\n",
            "\n",
            "glove.840B.300d.zip 100%[===================>]   2.03G  2.09MB/s    in 16m 55s \n",
            "\n",
            "2020-06-20 22:28:12 (2.05 MB/s) - ‘glove.840B.300d.zip.1’ saved [2176768927/2176768927]\n",
            "\n"
          ],
          "name": "stdout"
        }
      ]
    },
    {
      "cell_type": "code",
      "metadata": {
        "id": "vY_v4OVzJI7A",
        "colab_type": "code",
        "colab": {
          "base_uri": "https://localhost:8080/",
          "height": 54
        },
        "outputId": "3cc5c387-3d21-42a6-ae07-c11db57dfb94"
      },
      "source": [
        "from google.colab import drive\n",
        "drive.mount('/content/drive')"
      ],
      "execution_count": null,
      "outputs": [
        {
          "output_type": "stream",
          "text": [
            "Drive already mounted at /content/drive; to attempt to forcibly remount, call drive.mount(\"/content/drive\", force_remount=True).\n"
          ],
          "name": "stdout"
        }
      ]
    },
    {
      "cell_type": "markdown",
      "metadata": {
        "id": "QCuwRY4gI_DI",
        "colab_type": "text"
      },
      "source": [
        "## This Notebook covers: \n",
        "- Preprocessing the data\n",
        "- tfidf\n",
        "- count vector features\n",
        "- Modeling with Traditional ML Algorithms\n",
        "  1. logistic regression\n",
        "  2. naive bayes\n",
        "  3. svm\n",
        "  4. xgboost\n",
        "- Building Model with RNN\n",
        "  1. LSTM without Pretrained Embedding\n",
        "  2. Bi-Directional LSTM with GloVe Embeddings\n",
        "  3. GRU with GloVe Embeddings\n",
        "- Conclusion\n",
        "- Pickling files"
      ]
    },
    {
      "cell_type": "code",
      "metadata": {
        "id": "qkJ4D0uyI_DI",
        "colab_type": "code",
        "colab": {
          "base_uri": "https://localhost:8080/",
          "height": 204
        },
        "outputId": "7b2af62b-1ead-4939-9dea-c692b12568f3"
      },
      "source": [
        "#Read the Data\n",
        "df_news=pd.read_excel('/content/drive/My Drive/Colab Notebooks/Headline_TOI.xlsx')\n",
        "df_news.tail()"
      ],
      "execution_count": null,
      "outputs": [
        {
          "output_type": "execute_result",
          "data": {
            "text/html": [
              "<div>\n",
              "<style scoped>\n",
              "    .dataframe tbody tr th:only-of-type {\n",
              "        vertical-align: middle;\n",
              "    }\n",
              "\n",
              "    .dataframe tbody tr th {\n",
              "        vertical-align: top;\n",
              "    }\n",
              "\n",
              "    .dataframe thead th {\n",
              "        text-align: right;\n",
              "    }\n",
              "</style>\n",
              "<table border=\"1\" class=\"dataframe\">\n",
              "  <thead>\n",
              "    <tr style=\"text-align: right;\">\n",
              "      <th></th>\n",
              "      <th>Headline</th>\n",
              "      <th>Censor</th>\n",
              "    </tr>\n",
              "  </thead>\n",
              "  <tbody>\n",
              "    <tr>\n",
              "      <th>1263</th>\n",
              "      <td>Unforgettable: Yusuf who debuted in 2007 WT20 ...</td>\n",
              "      <td>0</td>\n",
              "    </tr>\n",
              "    <tr>\n",
              "      <th>1264</th>\n",
              "      <td>38 died while cleaning sewers in Delhi in last...</td>\n",
              "      <td>1</td>\n",
              "    </tr>\n",
              "    <tr>\n",
              "      <th>1265</th>\n",
              "      <td>Food brand Ketofy raises $250,000 in pre-Serie...</td>\n",
              "      <td>0</td>\n",
              "    </tr>\n",
              "    <tr>\n",
              "      <th>1266</th>\n",
              "      <td>Low-lying areas in Bihar flooded as Ganga's wa...</td>\n",
              "      <td>1</td>\n",
              "    </tr>\n",
              "    <tr>\n",
              "      <th>1267</th>\n",
              "      <td>Trump criticises China, says it has broken pro...</td>\n",
              "      <td>0</td>\n",
              "    </tr>\n",
              "  </tbody>\n",
              "</table>\n",
              "</div>"
            ],
            "text/plain": [
              "                                               Headline  Censor\n",
              "1263  Unforgettable: Yusuf who debuted in 2007 WT20 ...       0\n",
              "1264  38 died while cleaning sewers in Delhi in last...       1\n",
              "1265  Food brand Ketofy raises $250,000 in pre-Serie...       0\n",
              "1266  Low-lying areas in Bihar flooded as Ganga's wa...       1\n",
              "1267  Trump criticises China, says it has broken pro...       0"
            ]
          },
          "metadata": {
            "tags": []
          },
          "execution_count": 78
        }
      ]
    },
    {
      "cell_type": "code",
      "metadata": {
        "id": "IC5cJNu1I_DM",
        "colab_type": "code",
        "colab": {
          "base_uri": "https://localhost:8080/",
          "height": 279
        },
        "outputId": "62315e8f-9e8d-43ed-a7b6-0d4be216857d"
      },
      "source": [
        "#Plotting the labels\n",
        "df_news['Censor'].value_counts().plot.bar()"
      ],
      "execution_count": null,
      "outputs": [
        {
          "output_type": "execute_result",
          "data": {
            "text/plain": [
              "<matplotlib.axes._subplots.AxesSubplot at 0x7f0cd1b36400>"
            ]
          },
          "metadata": {
            "tags": []
          },
          "execution_count": 79
        },
        {
          "output_type": "display_data",
          "data": {
            "image/png": "[encoded data removed]",
            "text/plain": [
              "<Figure size 432x288 with 1 Axes>"
            ]
          },
          "metadata": {
            "tags": [],
            "needs_background": "light"
          }
        }
      ]
    },
    {
      "cell_type": "markdown",
      "metadata": {
        "id": "2zQIpC42I_DQ",
        "colab_type": "text"
      },
      "source": [
        "## Preprocessing the Data"
      ]
    },
    {
      "cell_type": "code",
      "metadata": {
        "id": "vse8LI4zI_DR",
        "colab_type": "code",
        "colab": {
          "base_uri": "https://localhost:8080/",
          "height": 204
        },
        "outputId": "3f4a849c-4548-4126-b955-5eefa69a34b3"
      },
      "source": [
        "#Removing Punctuations from the text\n",
        "df_news.replace(\"[^a-zA-Z]\",\" \",regex=True, inplace=True)\n",
        "df_news.head()"
      ],
      "execution_count": null,
      "outputs": [
        {
          "output_type": "execute_result",
          "data": {
            "text/html": [
              "<div>\n",
              "<style scoped>\n",
              "    .dataframe tbody tr th:only-of-type {\n",
              "        vertical-align: middle;\n",
              "    }\n",
              "\n",
              "    .dataframe tbody tr th {\n",
              "        vertical-align: top;\n",
              "    }\n",
              "\n",
              "    .dataframe thead th {\n",
              "        text-align: right;\n",
              "    }\n",
              "</style>\n",
              "<table border=\"1\" class=\"dataframe\">\n",
              "  <thead>\n",
              "    <tr style=\"text-align: right;\">\n",
              "      <th></th>\n",
              "      <th>Headline</th>\n",
              "      <th>Censor</th>\n",
              "    </tr>\n",
              "  </thead>\n",
              "  <tbody>\n",
              "    <tr>\n",
              "      <th>0</th>\n",
              "      <td>Law against religious conversion</td>\n",
              "      <td>1</td>\n",
              "    </tr>\n",
              "    <tr>\n",
              "      <th>1</th>\n",
              "      <td>Woman sets baby ablaze</td>\n",
              "      <td>1</td>\n",
              "    </tr>\n",
              "    <tr>\n",
              "      <th>2</th>\n",
              "      <td>Submit project plans by Jan     BMC</td>\n",
              "      <td>0</td>\n",
              "    </tr>\n",
              "    <tr>\n",
              "      <th>3</th>\n",
              "      <td>Nanded gets new revenue division tag</td>\n",
              "      <td>0</td>\n",
              "    </tr>\n",
              "    <tr>\n",
              "      <th>4</th>\n",
              "      <td>Several arts to beat together at NCPA</td>\n",
              "      <td>0</td>\n",
              "    </tr>\n",
              "  </tbody>\n",
              "</table>\n",
              "</div>"
            ],
            "text/plain": [
              "                                Headline  Censor\n",
              "0       Law against religious conversion       1\n",
              "1                 Woman sets baby ablaze       1\n",
              "2    Submit project plans by Jan     BMC       0\n",
              "3   Nanded gets new revenue division tag       0\n",
              "4  Several arts to beat together at NCPA       0"
            ]
          },
          "metadata": {
            "tags": []
          },
          "execution_count": 80
        }
      ]
    },
    {
      "cell_type": "code",
      "metadata": {
        "id": "pNdBPll8I_DV",
        "colab_type": "code",
        "colab": {
          "base_uri": "https://localhost:8080/",
          "height": 204
        },
        "outputId": "ef195328-175e-4791-f92c-1fe18c6dc6fb"
      },
      "source": [
        "#Lower case the whole text\n",
        "data=df_news['Headline'].str.lower()\n",
        "df_news['Headline']=data\n",
        "df_news.head()"
      ],
      "execution_count": null,
      "outputs": [
        {
          "output_type": "execute_result",
          "data": {
            "text/html": [
              "<div>\n",
              "<style scoped>\n",
              "    .dataframe tbody tr th:only-of-type {\n",
              "        vertical-align: middle;\n",
              "    }\n",
              "\n",
              "    .dataframe tbody tr th {\n",
              "        vertical-align: top;\n",
              "    }\n",
              "\n",
              "    .dataframe thead th {\n",
              "        text-align: right;\n",
              "    }\n",
              "</style>\n",
              "<table border=\"1\" class=\"dataframe\">\n",
              "  <thead>\n",
              "    <tr style=\"text-align: right;\">\n",
              "      <th></th>\n",
              "      <th>Headline</th>\n",
              "      <th>Censor</th>\n",
              "    </tr>\n",
              "  </thead>\n",
              "  <tbody>\n",
              "    <tr>\n",
              "      <th>0</th>\n",
              "      <td>law against religious conversion</td>\n",
              "      <td>1</td>\n",
              "    </tr>\n",
              "    <tr>\n",
              "      <th>1</th>\n",
              "      <td>woman sets baby ablaze</td>\n",
              "      <td>1</td>\n",
              "    </tr>\n",
              "    <tr>\n",
              "      <th>2</th>\n",
              "      <td>submit project plans by jan     bmc</td>\n",
              "      <td>0</td>\n",
              "    </tr>\n",
              "    <tr>\n",
              "      <th>3</th>\n",
              "      <td>nanded gets new revenue division tag</td>\n",
              "      <td>0</td>\n",
              "    </tr>\n",
              "    <tr>\n",
              "      <th>4</th>\n",
              "      <td>several arts to beat together at ncpa</td>\n",
              "      <td>0</td>\n",
              "    </tr>\n",
              "  </tbody>\n",
              "</table>\n",
              "</div>"
            ],
            "text/plain": [
              "                                Headline  Censor\n",
              "0       law against religious conversion       1\n",
              "1                 woman sets baby ablaze       1\n",
              "2    submit project plans by jan     bmc       0\n",
              "3   nanded gets new revenue division tag       0\n",
              "4  several arts to beat together at ncpa       0"
            ]
          },
          "metadata": {
            "tags": []
          },
          "execution_count": 81
        }
      ]
    },
    {
      "cell_type": "code",
      "metadata": {
        "id": "3_YaFgmuI_Da",
        "colab_type": "code",
        "colab": {}
      },
      "source": [
        "# Removing the stop words\n",
        "stop=stopwords.words('english')\n",
        "\n",
        "df_news['Headline']=df_news['Headline'].apply(lambda x:\" \".join(x for x in x.split() if x not in stop))"
      ],
      "execution_count": null,
      "outputs": []
    },
    {
      "cell_type": "code",
      "metadata": {
        "id": "x2KpEQALI_Dd",
        "colab_type": "code",
        "colab": {}
      },
      "source": [
        "#splitting the data\n",
        "X_train, X_test, y_train, y_test = train_test_split(df_news['Headline'], df_news['Censor'], \n",
        "                                                    test_size = 0.2, random_state = 42)"
      ],
      "execution_count": null,
      "outputs": []
    },
    {
      "cell_type": "markdown",
      "metadata": {
        "id": "b8rHsDx_I_Dl",
        "colab_type": "text"
      },
      "source": [
        "\n",
        "Let's start building our very first model.\n",
        "\n",
        "Our very first model is a simple TF-IDF (Term Frequency - Inverse Document Frequency) followed by a simple Logistic Regression."
      ]
    },
    {
      "cell_type": "markdown",
      "metadata": {
        "id": "5Nwn8OmEI_Dm",
        "colab_type": "text"
      },
      "source": [
        "## TF-IDF using word vectorizer"
      ]
    },
    {
      "cell_type": "code",
      "metadata": {
        "id": "ROhqa7ZxI_Dm",
        "colab_type": "code",
        "colab": {}
      },
      "source": [
        "#Transorming input text using TF-IDF (Term Frequency - Inverse Document Frequency)\n",
        "tfv = TfidfVectorizer(min_df=3,  max_features=None, \n",
        "            strip_accents='unicode',analyzer='word',\n",
        "            ngram_range=(1, 3), use_idf=1,smooth_idf=1,sublinear_tf=1,\n",
        "            #stop_words = 'english'\n",
        "                     )\n",
        "\n",
        "# Fitting TF-IDF to both training and test sets (semi-supervised learning)\n",
        "tfv.fit(list(X_train) + list(X_test))\n",
        "xtrain_tfv =  tfv.transform(X_train) \n",
        "xtest_tfv = tfv.transform(X_test)"
      ],
      "execution_count": null,
      "outputs": []
    },
    {
      "cell_type": "markdown",
      "metadata": {
        "id": "L80nCIpeI_Dq",
        "colab_type": "text"
      },
      "source": [
        "## Count Vector\n",
        "\n",
        "---\n",
        "\n"
      ]
    },
    {
      "cell_type": "markdown",
      "metadata": {
        "id": "YFKwMOpYI_Dr",
        "colab_type": "text"
      },
      "source": [
        "Instead of using TF-IDF, we can also use word counts as features. This can be done easily using CountVectorizer from scikit-learn."
      ]
    },
    {
      "cell_type": "code",
      "metadata": {
        "id": "0w0A30DhI_Ds",
        "colab_type": "code",
        "colab": {}
      },
      "source": [
        "#Transorming input text using Count Vectorizer or Bag of words\n",
        "ctv = CountVectorizer(analyzer='word',\n",
        "            ngram_range=(1, 1)#, stop_words = 'english'\n",
        "                     )\n",
        "\n",
        "# Fitting Count Vectorizer to both training and test sets (semi-supervised learning)\n",
        "ctv.fit(list(X_train) + list(X_test))\n",
        "xtrain_ctv =  ctv.transform(X_train) \n",
        "xtest_ctv = ctv.transform(X_test)"
      ],
      "execution_count": null,
      "outputs": []
    },
    {
      "cell_type": "markdown",
      "metadata": {
        "id": "HdDbvXBjOrCI",
        "colab_type": "text"
      },
      "source": [
        ""
      ]
    },
    {
      "cell_type": "markdown",
      "metadata": {
        "id": "3L0RZ8NBI_Dv",
        "colab_type": "text"
      },
      "source": [
        "## Building Models <br>"
      ]
    },
    {
      "cell_type": "markdown",
      "metadata": {
        "id": "6BhPdd26I_Dw",
        "colab_type": "text"
      },
      "source": [
        "### Logistic Regression\n",
        "\n",
        "---\n",
        "\n"
      ]
    },
    {
      "cell_type": "code",
      "metadata": {
        "id": "dpW8z2QlI_Dx",
        "colab_type": "code",
        "colab": {
          "base_uri": "https://localhost:8080/",
          "height": 51
        },
        "outputId": "41c932d6-b493-4172-b59f-8b5f4aebae80"
      },
      "source": [
        "# Fitting a simple Logistic Regression on TFIDF\n",
        "lr_tfv = LogisticRegression(C=1.0)\n",
        "lr_tfv.fit(xtrain_tfv, y_train)\n",
        "predictions = lr_tfv.predict(xtest_tfv)\n",
        "score=accuracy_score(y_test,predictions)\n",
        "print(score)\n",
        "print(roc_auc_score(y_test, predictions))"
      ],
      "execution_count": null,
      "outputs": [
        {
          "output_type": "stream",
          "text": [
            "0.7480314960629921\n",
            "0.6779874213836478\n"
          ],
          "name": "stdout"
        }
      ]
    },
    {
      "cell_type": "code",
      "metadata": {
        "id": "iVNfCRIGI_D1",
        "colab_type": "code",
        "colab": {
          "base_uri": "https://localhost:8080/",
          "height": 51
        },
        "outputId": "55b69330-940a-4c58-ee40-0f2303a201b2"
      },
      "source": [
        "# Fitting a simple Logistic Regression on count vector\n",
        "lr_ctv = LogisticRegression(C=1.0)\n",
        "lr_ctv.fit(xtrain_ctv, y_train)\n",
        "predictions = lr_ctv.predict(xtest_ctv)\n",
        "score=accuracy_score(y_test,predictions)\n",
        "print(score)\n",
        "print(roc_auc_score(y_test, predictions))"
      ],
      "execution_count": null,
      "outputs": [
        {
          "output_type": "stream",
          "text": [
            "0.7716535433070866\n",
            "0.7201588877855015\n"
          ],
          "name": "stdout"
        }
      ]
    },
    {
      "cell_type": "markdown",
      "metadata": {
        "id": "2Fy8JEpVI_D5",
        "colab_type": "text"
      },
      "source": [
        "### Naive Bayes\n",
        "\n",
        "---\n",
        "\n",
        "\n"
      ]
    },
    {
      "cell_type": "code",
      "metadata": {
        "id": "2w01B5VEI_D5",
        "colab_type": "code",
        "colab": {
          "base_uri": "https://localhost:8080/",
          "height": 51
        },
        "outputId": "a240a3f5-381e-4796-fe4f-dcc1d2ec9836"
      },
      "source": [
        "# Fitting a simple Naive Bayes on TFIDF\n",
        "nb_tfv = MultinomialNB()\n",
        "nb_tfv.fit(xtrain_tfv, y_train)\n",
        "predictions = nb_tfv.predict(xtest_tfv)\n",
        "score=accuracy_score(y_test,predictions)\n",
        "print(score)\n",
        "print(roc_auc_score(y_test, predictions))"
      ],
      "execution_count": null,
      "outputs": [
        {
          "output_type": "stream",
          "text": [
            "0.7598425196850394\n",
            "0.7149619331347236\n"
          ],
          "name": "stdout"
        }
      ]
    },
    {
      "cell_type": "code",
      "metadata": {
        "id": "qjqWzCELI_D8",
        "colab_type": "code",
        "colab": {
          "base_uri": "https://localhost:8080/",
          "height": 51
        },
        "outputId": "d4348f0b-7325-405e-ddd8-55dc09da5700"
      },
      "source": [
        "# Fitting a simple Naive Bayes on Count vector\n",
        "nb_ctv = MultinomialNB()\n",
        "nb_ctv .fit(xtrain_ctv, y_train)\n",
        "predictions = nb_ctv .predict(xtest_ctv)\n",
        "score=accuracy_score(y_test,predictions)\n",
        "print(score)\n",
        "print(roc_auc_score(y_test, predictions))"
      ],
      "execution_count": null,
      "outputs": [
        {
          "output_type": "stream",
          "text": [
            "0.7362204724409449\n",
            "0.7321085733200927\n"
          ],
          "name": "stdout"
        }
      ]
    },
    {
      "cell_type": "markdown",
      "metadata": {
        "id": "XYKLoE8sI_EB",
        "colab_type": "text"
      },
      "source": [
        "### SVM\n",
        "\n",
        "---\n",
        "\n"
      ]
    },
    {
      "cell_type": "code",
      "metadata": {
        "id": "1XL2x1h1I_EC",
        "colab_type": "code",
        "colab": {
          "base_uri": "https://localhost:8080/",
          "height": 34
        },
        "outputId": "e347cd84-1ce8-428a-e4fb-7f441d3ff4d3"
      },
      "source": [
        "# Fitting a simple SVM with tf-idf\n",
        "svc_tfv = SVC(C=1, probability=True) # since we need probabilities\n",
        "svc_tfv.fit(xtrain_tfv, y_train)\n",
        "predictions = svc_tfv.predict(xtest_tfv)\n",
        "score=accuracy_score(y_test,predictions)\n",
        "print(score)"
      ],
      "execution_count": null,
      "outputs": [
        {
          "output_type": "stream",
          "text": [
            "0.7401574803149606\n"
          ],
          "name": "stdout"
        }
      ]
    },
    {
      "cell_type": "code",
      "metadata": {
        "id": "E5Ib1qAPI_EG",
        "colab_type": "code",
        "colab": {
          "base_uri": "https://localhost:8080/",
          "height": 34
        },
        "outputId": "39b3dc98-d550-4876-c095-3c19ee3beef2"
      },
      "source": [
        "# Fitting a simple SVM with count vector\n",
        "svc_ctv = SVC(C=1, probability=True) # since we need probabilities\n",
        "svc_ctv.fit(xtrain_ctv, y_train)\n",
        "predictions = svc_ctv.predict(xtest_ctv)\n",
        "score=accuracy_score(y_test,predictions)\n",
        "print(score)"
      ],
      "execution_count": null,
      "outputs": [
        {
          "output_type": "stream",
          "text": [
            "0.7204724409448819\n"
          ],
          "name": "stdout"
        }
      ]
    },
    {
      "cell_type": "markdown",
      "metadata": {
        "id": "mCmuX5pbI_EK",
        "colab_type": "text"
      },
      "source": [
        "### XGB"
      ]
    },
    {
      "cell_type": "code",
      "metadata": {
        "id": "rfrvq6-zI_EL",
        "colab_type": "code",
        "colab": {
          "base_uri": "https://localhost:8080/",
          "height": 51
        },
        "outputId": "008daa90-d397-4603-c5ab-1789b35d165b"
      },
      "source": [
        "# Fitting a simple xgboost on tf-idf\n",
        "xgb_tfv = xgb.XGBClassifier(max_depth=7, n_estimators=200, colsample_bytree=0.8, \n",
        "                        subsample=0.8, nthread=10, learning_rate=0.1)\n",
        "xgb_tfv.fit(xtrain_tfv.tocsc(), y_train)\n",
        "predictions = xgb_tfv.predict(xtest_tfv.tocsc())\n",
        "score=accuracy_score(y_test,predictions)\n",
        "print(score)\n",
        "print(roc_auc_score(y_test, predictions))"
      ],
      "execution_count": null,
      "outputs": [
        {
          "output_type": "stream",
          "text": [
            "0.7204724409448819\n",
            "0.6517378351539226\n"
          ],
          "name": "stdout"
        }
      ]
    },
    {
      "cell_type": "code",
      "metadata": {
        "id": "woi-it1BI_EO",
        "colab_type": "code",
        "colab": {
          "base_uri": "https://localhost:8080/",
          "height": 51
        },
        "outputId": "fb4ea3b4-4c00-42f2-ba5a-d8303803db6d"
      },
      "source": [
        "# Fitting a simple xgboost on CTV\n",
        "xgb_ctv = xgb.XGBClassifier(max_depth=7, n_estimators=200, colsample_bytree=0.8, \n",
        "                        subsample=0.8, nthread=10, learning_rate=0.1)\n",
        "xgb_ctv.fit(xtrain_ctv.tocsc(), y_train)\n",
        "predictions = xgb_ctv.predict(xtest_ctv.tocsc())\n",
        "score=accuracy_score(y_test,predictions)\n",
        "print(score)\n",
        "print(roc_auc_score(y_test, predictions))"
      ],
      "execution_count": null,
      "outputs": [
        {
          "output_type": "stream",
          "text": [
            "0.7165354330708661\n",
            "0.6443561734524992\n"
          ],
          "name": "stdout"
        }
      ]
    },
    {
      "cell_type": "markdown",
      "metadata": {
        "id": "YsTxFW81tVYN",
        "colab_type": "text"
      },
      "source": [
        "# **Modelling with RNN**"
      ]
    },
    {
      "cell_type": "code",
      "metadata": {
        "id": "bUgZbt3Q3C8r",
        "colab_type": "code",
        "colab": {}
      },
      "source": [
        "#Imporing Libraries for RNN based modelling\n",
        "from keras.preprocessing.text import Tokenizer\n",
        "from keras.preprocessing.text import text_to_word_sequence\n",
        "from keras.preprocessing.sequence import pad_sequences\n",
        "\n",
        "from keras.models import Sequential\n",
        "from keras.models import Model\n",
        "from keras.models import load_model\n",
        "\n",
        "from keras.layers import Input,Dense,Embedding,Conv1D,Conv2D,MaxPooling1D, MaxPooling2D,Activation\n",
        "from keras.layers import Flatten,Dropout,Reshape,Concatenate,SpatialDropout1D,concatenate\n",
        "from keras.layers import GlobalMaxPooling1D,GlobalAveragePooling1D,GRU,Bidirectional,LSTM\n",
        "\n",
        "from keras.callbacks import Callback\n",
        "from keras.callbacks import EarlyStopping,ModelCheckpoint\n",
        "\n",
        "from keras.utils.vis_utils import plot_model\n",
        "from keras.optimizers import Adam\n",
        "\n"
      ],
      "execution_count": null,
      "outputs": []
    },
    {
      "cell_type": "code",
      "metadata": {
        "id": "8dorSYVv8vE9",
        "colab_type": "code",
        "colab": {}
      },
      "source": [
        "#Tokenizing the text\n",
        "max_nums=50000\n",
        "tokenizer=Tokenizer(num_words=max_nums)\n",
        "tokenizer.fit_on_texts(df_news['Headline'])"
      ],
      "execution_count": null,
      "outputs": []
    },
    {
      "cell_type": "code",
      "metadata": {
        "id": "4wpzW_R-9rdr",
        "colab_type": "code",
        "colab": {
          "base_uri": "https://localhost:8080/",
          "height": 51
        },
        "outputId": "f03cb3a6-bfe4-4f35-a559-27e1f590a8dc"
      },
      "source": [
        "#Example of converting text to a sequence\n",
        "print(X_train[5])\n",
        "tokenizer.texts_to_sequences([X_train[5]])"
      ],
      "execution_count": null,
      "outputs": [
        {
          "output_type": "stream",
          "text": [
            "rane stalls plan quit congress\n"
          ],
          "name": "stdout"
        },
        {
          "output_type": "execute_result",
          "data": {
            "text/plain": [
              "[[364, 1198, 82, 240, 1199]]"
            ]
          },
          "metadata": {
            "tags": []
          },
          "execution_count": 96
        }
      ]
    },
    {
      "cell_type": "code",
      "metadata": {
        "id": "pQyCQri3-W3v",
        "colab_type": "code",
        "colab": {}
      },
      "source": [
        "#Converting the text into numbers as seen the example above\n",
        "train_sequence=tokenizer.texts_to_sequences(X_train)\n",
        "test_sequence=tokenizer.texts_to_sequences(X_test)"
      ],
      "execution_count": null,
      "outputs": []
    },
    {
      "cell_type": "code",
      "metadata": {
        "id": "zOBxZmBP-vuN",
        "colab_type": "code",
        "colab": {}
      },
      "source": [
        "#Padding all the rows of data to the same length i.e. 20\n",
        "maxlen_pad=20\n",
        "padded_train_sequence=pad_sequences(train_sequence,maxlen=maxlen_pad)\n",
        "padded_test_sequence=pad_sequences(test_sequence,maxlen=maxlen_pad)"
      ],
      "execution_count": null,
      "outputs": []
    },
    {
      "cell_type": "code",
      "metadata": {
        "id": "_nh5B_l7DMSC",
        "colab_type": "code",
        "colab": {
          "base_uri": "https://localhost:8080/",
          "height": 136
        },
        "outputId": "0cd3bb6d-26b4-474e-d559-45d49c5a4dbe"
      },
      "source": [
        "padded_train_sequence"
      ],
      "execution_count": null,
      "outputs": [
        {
          "output_type": "execute_result",
          "data": {
            "text/plain": [
              "array([[   0,    0,    0, ..., 1265,  615, 1266],\n",
              "       [   0,    0,    0, ..., 1501, 1502, 1503],\n",
              "       [   0,    0,    0, ..., 2469, 1002, 1003],\n",
              "       ...,\n",
              "       [   0,    0,    0, ..., 1135,  271,   92],\n",
              "       [   0,    0,    0, ..., 2658,  155,  239],\n",
              "       [   0,    0,    0, ..., 1123,  108,    7]], dtype=int32)"
            ]
          },
          "metadata": {
            "tags": []
          },
          "execution_count": 99
        }
      ]
    },
    {
      "cell_type": "code",
      "metadata": {
        "id": "VLEOzMtoDUHg",
        "colab_type": "code",
        "colab": {
          "base_uri": "https://localhost:8080/",
          "height": 34
        },
        "outputId": "97d1a75e-957f-4794-cbe9-546a42096144"
      },
      "source": [
        "padded_train_sequence.shape"
      ],
      "execution_count": null,
      "outputs": [
        {
          "output_type": "execute_result",
          "data": {
            "text/plain": [
              "(1014, 20)"
            ]
          },
          "metadata": {
            "tags": []
          },
          "execution_count": 100
        }
      ]
    },
    {
      "cell_type": "markdown",
      "metadata": {
        "id": "WRfEczw1djRX",
        "colab_type": "text"
      },
      "source": [
        "\n",
        "## A simple LSTM without Pretrained Embedding"
      ]
    },
    {
      "cell_type": "code",
      "metadata": {
        "id": "L4s4zWJ-bxsP",
        "colab_type": "code",
        "colab": {
          "base_uri": "https://localhost:8080/",
          "height": 479
        },
        "outputId": "27e1b0ee-dfe8-4e09-cd3f-d0c985631d00"
      },
      "source": [
        "embedding_dim=300\n",
        "embedding_random=np.random.random((max_nums,embedding_dim))\n",
        "random_model = Sequential()\n",
        "random_model.add(Embedding(input_dim=max_nums, output_dim=embedding_dim, input_length=maxlen_pad, \n",
        "                  weights=[embedding_random], trainable=True))\n",
        "random_model.add(SpatialDropout1D(0.3))\n",
        "random_model.add(LSTM(300, dropout=0.3, recurrent_dropout=0.3))\n",
        "\n",
        "random_model.add(Dense(1024, activation='relu'))\n",
        "random_model.add(Dropout(0.8))\n",
        "\n",
        "random_model.add(Dense(1024, activation='relu'))\n",
        "random_model.add(Dropout(0.8))\n",
        "\n",
        "random_model.add(Dense(1))\n",
        "random_model.add(Activation('sigmoid'))\n",
        "random_model.compile(loss='binary_crossentropy', optimizer='adam')\n",
        "\n",
        "# Fit the model with early stopping callback\n",
        "earlystop = EarlyStopping(monitor='val_loss', min_delta=0, patience=3, verbose=0, mode='auto')\n",
        "\n",
        "random_model.fit(x=padded_train_sequence, \n",
        "                    y=y_train, \n",
        "                    validation_data=(padded_test_sequence, y_test),  \n",
        "                    batch_size=32, \n",
        "                    epochs=20, \n",
        "                    verbose=1,callbacks=[earlystop])"
      ],
      "execution_count": null,
      "outputs": [
        {
          "output_type": "stream",
          "text": [
            "/usr/local/lib/python3.6/dist-packages/tensorflow/python/framework/indexed_slices.py:434: UserWarning: Converting sparse IndexedSlices to a dense Tensor of unknown shape. This may consume a large amount of memory.\n",
            "  \"Converting sparse IndexedSlices to a dense Tensor of unknown shape. \"\n"
          ],
          "name": "stderr"
        },
        {
          "output_type": "stream",
          "text": [
            "Train on 1014 samples, validate on 254 samples\n",
            "Epoch 1/20\n",
            "1014/1014 [==============================] - 12s 12ms/step - loss: 0.7599 - val_loss: 0.6824\n",
            "Epoch 2/20\n",
            "1014/1014 [==============================] - 11s 11ms/step - loss: 0.7258 - val_loss: 0.6833\n",
            "Epoch 3/20\n",
            "1014/1014 [==============================] - 12s 11ms/step - loss: 0.6951 - val_loss: 0.6622\n",
            "Epoch 4/20\n",
            "1014/1014 [==============================] - 11s 11ms/step - loss: 0.6808 - val_loss: 0.6635\n",
            "Epoch 5/20\n",
            "1014/1014 [==============================] - 11s 11ms/step - loss: 0.6896 - val_loss: 0.6654\n",
            "Epoch 6/20\n",
            "1014/1014 [==============================] - 11s 11ms/step - loss: 0.6728 - val_loss: 0.6608\n",
            "Epoch 7/20\n",
            "1014/1014 [==============================] - 11s 11ms/step - loss: 0.6756 - val_loss: 0.6606\n",
            "Epoch 8/20\n",
            "1014/1014 [==============================] - 11s 11ms/step - loss: 0.6681 - val_loss: 0.6589\n",
            "Epoch 9/20\n",
            "1014/1014 [==============================] - 12s 12ms/step - loss: 0.6698 - val_loss: 0.6640\n",
            "Epoch 10/20\n",
            "1014/1014 [==============================] - 11s 11ms/step - loss: 0.6448 - val_loss: 0.6758\n",
            "Epoch 11/20\n",
            "1014/1014 [==============================] - 12s 11ms/step - loss: 0.6564 - val_loss: 0.6594\n"
          ],
          "name": "stdout"
        },
        {
          "output_type": "execute_result",
          "data": {
            "text/plain": [
              "<keras.callbacks.callbacks.History at 0x7f0cd1985dd8>"
            ]
          },
          "metadata": {
            "tags": []
          },
          "execution_count": 101
        }
      ]
    },
    {
      "cell_type": "code",
      "metadata": {
        "id": "DXIBrP3lcxdq",
        "colab_type": "code",
        "colab": {}
      },
      "source": [
        "#Predicting \n",
        "y_pred_random=random_model.predict(padded_test_sequence)\n",
        "y_pred_random=pd.DataFrame(y_pred_random,columns=['Prediction'])\n",
        "y_pred_random['Prediction'] =y_pred_random['Prediction'].map(lambda x:1 if x>=0.5 else 0)"
      ],
      "execution_count": null,
      "outputs": []
    },
    {
      "cell_type": "code",
      "metadata": {
        "id": "meY-3k51czOM",
        "colab_type": "code",
        "colab": {
          "base_uri": "https://localhost:8080/",
          "height": 51
        },
        "outputId": "d5d0fc5e-f6b4-476f-e867-459ec0a7c562"
      },
      "source": [
        "print(accuracy_score(y_test, y_pred_random))\n",
        "print(roc_auc_score(y_test, y_pred_random))"
      ],
      "execution_count": null,
      "outputs": [
        {
          "output_type": "stream",
          "text": [
            "0.6771653543307087\n",
            "0.5768950678583251\n"
          ],
          "name": "stdout"
        }
      ]
    },
    {
      "cell_type": "code",
      "metadata": {
        "id": "sHNxL-KPQ8dB",
        "colab_type": "code",
        "colab": {
          "base_uri": "https://localhost:8080/",
          "height": 1000
        },
        "outputId": "fe38d995-51c2-42e2-84f0-d90272e8d8a4"
      },
      "source": [
        "plot_model(random_model, \n",
        "           #to_file='./images/rnn_simple_model.png', \n",
        "           show_shapes=True, \n",
        "           show_layer_names=True)"
      ],
      "execution_count": null,
      "outputs": [
        {
          "output_type": "execute_result",
          "data": {
            "image/png": "[encoded data removed]",
            "text/plain": [
              "<IPython.core.display.Image object>"
            ]
          },
          "metadata": {
            "tags": []
          },
          "execution_count": 104
        }
      ]
    },
    {
      "cell_type": "markdown",
      "metadata": {
        "id": "F5soXmhpr6Lf",
        "colab_type": "text"
      },
      "source": [
        "# Recurrent Neural Network with GloVe pre-trained embeddings\n",
        "\n",
        "---\n",
        "\n"
      ]
    },
    {
      "cell_type": "markdown",
      "metadata": {
        "id": "BUDiQAmweFIy",
        "colab_type": "text"
      },
      "source": [
        "Going forward we will use the GloVe based embeddings to try various RNN layers.We will generate an embedding matrix from the GloVe text file. GloVe text file contains raw data where each line has a token and its corresponding embedding value in 300 dimension space!"
      ]
    },
    {
      "cell_type": "code",
      "metadata": {
        "id": "v9fFR0_SIw9o",
        "colab_type": "code",
        "colab": {
          "base_uri": "https://localhost:8080/",
          "height": 34
        },
        "outputId": "1929d28d-8501-487c-a197-69687c76d13c"
      },
      "source": [
        "embeddings_index = {}\n",
        "f = open('./embeddings/glove.840B.300d.txt')\n",
        "for line in f:\n",
        "  values = line.split()\n",
        "  word = values[0]\n",
        "  try:\n",
        "    coefs = np.asarray(values[1:], dtype='float32')\n",
        "  except:\n",
        "    coefs=None\n",
        "  embeddings_index[word] = coefs\n",
        "f.close()\n",
        "\n",
        "print('Found %s word vectors.' % len(embeddings_index))"
      ],
      "execution_count": null,
      "outputs": [
        {
          "output_type": "stream",
          "text": [
            "Found 2195884 word vectors.\n"
          ],
          "name": "stdout"
        }
      ]
    },
    {
      "cell_type": "code",
      "metadata": {
        "id": "VLqvGeBDsMmH",
        "colab_type": "code",
        "colab": {
          "base_uri": "https://localhost:8080/",
          "height": 34
        },
        "outputId": "063530f6-09af-46f1-c767-7f86855ff0b9"
      },
      "source": [
        "word_index=tokenizer.word_index\n",
        "print(len(word_index))"
      ],
      "execution_count": null,
      "outputs": [
        {
          "output_type": "stream",
          "text": [
            "3448\n"
          ],
          "name": "stdout"
        }
      ]
    },
    {
      "cell_type": "code",
      "metadata": {
        "id": "XDoZovmhpK_W",
        "colab_type": "code",
        "colab": {}
      },
      "source": [
        "embedding_dim=300\n",
        "embedding_matrix = np.zeros((max_nums,embedding_dim))\n",
        "for word, i in word_index.items():\n",
        "    embedding_vector = embeddings_index.get(word)\n",
        "    if embedding_vector is not None:\n",
        "        embedding_matrix[i] = embedding_vector"
      ],
      "execution_count": null,
      "outputs": []
    },
    {
      "cell_type": "markdown",
      "metadata": {
        "id": "v3ZsdJePGmzc",
        "colab_type": "text"
      },
      "source": [
        "## A Bi-Directional LSTM with glove embeddings and two dense layers"
      ]
    },
    {
      "cell_type": "code",
      "metadata": {
        "id": "yqIZ_GujKwj1",
        "colab_type": "code",
        "colab": {
          "base_uri": "https://localhost:8080/",
          "height": 275
        },
        "outputId": "1cae2314-0544-431b-bee3-1bf7f401d80c"
      },
      "source": [
        "lstm_model = Sequential()\n",
        "lstm_model.add(Embedding(input_dim=max_nums, output_dim=embedding_dim, input_length=maxlen_pad, \n",
        "                  weights=[embedding_matrix], trainable=True))\n",
        "lstm_model.add(SpatialDropout1D(0.3))\n",
        "lstm_model.add(Bidirectional(LSTM(300, dropout=0.3, recurrent_dropout=0.3)))\n",
        "\n",
        "lstm_model.add(Dense(1024, activation='relu'))\n",
        "lstm_model.add(Dropout(0.8))\n",
        "\n",
        "lstm_model.add(Dense(1024, activation='relu'))\n",
        "lstm_model.add(Dropout(0.8))\n",
        "\n",
        "lstm_model.add(Dense(1))\n",
        "lstm_model.add(Activation('sigmoid'))\n",
        "lstm_model.compile(loss='binary_crossentropy', optimizer='adam')\n",
        "\n",
        "# Fit the model with early stopping callback\n",
        "earlystop = EarlyStopping(monitor='val_loss', min_delta=0, patience=3, verbose=0, mode='auto')\n",
        "\n",
        "lstm_model.fit(x=padded_train_sequence, \n",
        "                    y=y_train, \n",
        "                    validation_data=(padded_test_sequence, y_test),  \n",
        "                    batch_size=32, \n",
        "                    epochs=20, \n",
        "                    verbose=1,callbacks=[earlystop])"
      ],
      "execution_count": null,
      "outputs": [
        {
          "output_type": "stream",
          "text": [
            "/usr/local/lib/python3.6/dist-packages/tensorflow/python/framework/indexed_slices.py:434: UserWarning: Converting sparse IndexedSlices to a dense Tensor of unknown shape. This may consume a large amount of memory.\n",
            "  \"Converting sparse IndexedSlices to a dense Tensor of unknown shape. \"\n"
          ],
          "name": "stderr"
        },
        {
          "output_type": "stream",
          "text": [
            "Train on 1014 samples, validate on 254 samples\n",
            "Epoch 1/20\n",
            "1014/1014 [==============================] - 18s 18ms/step - loss: 0.6319 - val_loss: 0.4382\n",
            "Epoch 2/20\n",
            "1014/1014 [==============================] - 16s 16ms/step - loss: 0.4837 - val_loss: 0.3906\n",
            "Epoch 3/20\n",
            "1014/1014 [==============================] - 17s 16ms/step - loss: 0.3851 - val_loss: 0.4374\n",
            "Epoch 4/20\n",
            "1014/1014 [==============================] - 16s 16ms/step - loss: 0.3289 - val_loss: 0.4202\n",
            "Epoch 5/20\n",
            "1014/1014 [==============================] - 16s 16ms/step - loss: 0.2036 - val_loss: 0.4941\n"
          ],
          "name": "stdout"
        },
        {
          "output_type": "execute_result",
          "data": {
            "text/plain": [
              "<keras.callbacks.callbacks.History at 0x7f0cd135df60>"
            ]
          },
          "metadata": {
            "tags": []
          },
          "execution_count": 108
        }
      ]
    },
    {
      "cell_type": "code",
      "metadata": {
        "id": "MXssBV1HL6e9",
        "colab_type": "code",
        "colab": {}
      },
      "source": [
        "y_pred_rnn_lstm=lstm_model.predict(padded_test_sequence)\n",
        "y_pred_rnn_lstm=pd.DataFrame(y_pred_rnn_lstm,columns=['Prediction'])\n",
        "y_pred_rnn_lstm['Prediction'] =y_pred_rnn_lstm['Prediction'].map(lambda x:1 if x>=0.5 else 0)"
      ],
      "execution_count": null,
      "outputs": []
    },
    {
      "cell_type": "code",
      "metadata": {
        "id": "Wo5VvPdWMTmC",
        "colab_type": "code",
        "colab": {
          "base_uri": "https://localhost:8080/",
          "height": 51
        },
        "outputId": "d2bd7aba-ee72-430e-93e5-4218b8f1697c"
      },
      "source": [
        "print(accuracy_score(y_test, y_pred_rnn_lstm))\n",
        "print(roc_auc_score(y_test, y_pred_rnn_lstm))"
      ],
      "execution_count": null,
      "outputs": [
        {
          "output_type": "stream",
          "text": [
            "0.8188976377952756\n",
            "0.8002648129758358\n"
          ],
          "name": "stdout"
        }
      ]
    },
    {
      "cell_type": "markdown",
      "metadata": {
        "id": "2ZlBRRQ8sTRq",
        "colab_type": "text"
      },
      "source": [
        "## GRU with glove embeddings and two dense layers"
      ]
    },
    {
      "cell_type": "code",
      "metadata": {
        "id": "aSeDCggETuAI",
        "colab_type": "code",
        "colab": {
          "base_uri": "https://localhost:8080/",
          "height": 411
        },
        "outputId": "d83ed6ee-bf5c-44d9-a00d-6875a2c259f2"
      },
      "source": [
        "# 2 layer GRU\n",
        "GRU_model = Sequential()\n",
        "GRU_model.add(Embedding(input_dim=max_nums, output_dim=embedding_dim, input_length=maxlen_pad, \n",
        "                  weights=[embedding_matrix], trainable=True))\n",
        "GRU_model.add(SpatialDropout1D(0.3))\n",
        "GRU_model.add(GRU(100, dropout=0.3, recurrent_dropout=0.3, return_sequences=True))\n",
        "GRU_model.add(GRU(100, dropout=0.3, recurrent_dropout=0.3))\n",
        "\n",
        "GRU_model.add(Dense(512, activation='relu'))\n",
        "GRU_model.add(Dropout(0.8))\n",
        "\n",
        "GRU_model.add(Dense(512, activation='relu'))\n",
        "GRU_model.add(Dropout(0.8))\n",
        "\n",
        "GRU_model.add(Dense(1))\n",
        "GRU_model.add(Activation('sigmoid'))\n",
        "GRU_model.compile(loss='binary_crossentropy', optimizer='adam')\n",
        "\n",
        "# Fit the model with early stopping callback\n",
        "earlystop = EarlyStopping(monitor='val_loss', min_delta=0, patience=3, verbose=0, mode='auto')\n",
        "GRU_model.fit(x=padded_train_sequence, \n",
        "                    y=y_train, \n",
        "                    validation_data=(padded_test_sequence, y_test),  \n",
        "                    batch_size=32, \n",
        "                    epochs=20, \n",
        "                    verbose=1,callbacks=[earlystop])"
      ],
      "execution_count": null,
      "outputs": [
        {
          "output_type": "stream",
          "text": [
            "/usr/local/lib/python3.6/dist-packages/tensorflow/python/framework/indexed_slices.py:434: UserWarning: Converting sparse IndexedSlices to a dense Tensor of unknown shape. This may consume a large amount of memory.\n",
            "  \"Converting sparse IndexedSlices to a dense Tensor of unknown shape. \"\n"
          ],
          "name": "stderr"
        },
        {
          "output_type": "stream",
          "text": [
            "Train on 1014 samples, validate on 254 samples\n",
            "Epoch 1/20\n",
            "1014/1014 [==============================] - 10s 10ms/step - loss: 0.6961 - val_loss: 0.6351\n",
            "Epoch 2/20\n",
            "1014/1014 [==============================] - 9s 9ms/step - loss: 0.6485 - val_loss: 0.5417\n",
            "Epoch 3/20\n",
            "1014/1014 [==============================] - 9s 9ms/step - loss: 0.5153 - val_loss: 0.4367\n",
            "Epoch 4/20\n",
            "1014/1014 [==============================] - 9s 9ms/step - loss: 0.4335 - val_loss: 0.4168\n",
            "Epoch 5/20\n",
            "1014/1014 [==============================] - 9s 8ms/step - loss: 0.4040 - val_loss: 0.4252\n",
            "Epoch 6/20\n",
            "1014/1014 [==============================] - 9s 9ms/step - loss: 0.3284 - val_loss: 0.4097\n",
            "Epoch 7/20\n",
            "1014/1014 [==============================] - 9s 9ms/step - loss: 0.2747 - val_loss: 0.4331\n",
            "Epoch 8/20\n",
            "1014/1014 [==============================] - 9s 9ms/step - loss: 0.2281 - val_loss: 0.4246\n",
            "Epoch 9/20\n",
            "1014/1014 [==============================] - 9s 9ms/step - loss: 0.1795 - val_loss: 0.4880\n"
          ],
          "name": "stdout"
        },
        {
          "output_type": "execute_result",
          "data": {
            "text/plain": [
              "<keras.callbacks.callbacks.History at 0x7f0cd0c8e588>"
            ]
          },
          "metadata": {
            "tags": []
          },
          "execution_count": 111
        }
      ]
    },
    {
      "cell_type": "markdown",
      "metadata": {
        "id": "74YDA6QWFonI",
        "colab_type": "text"
      },
      "source": [
        ""
      ]
    },
    {
      "cell_type": "code",
      "metadata": {
        "id": "NWQpV94tUgDM",
        "colab_type": "code",
        "colab": {}
      },
      "source": [
        "y_pred_rnn_GRU=GRU_model.predict(padded_test_sequence)\n",
        "y_pred_rnn_GRU=pd.DataFrame(y_pred_rnn_GRU,columns=['Prediction'])\n",
        "y_pred_rnn_GRU['Prediction'] =y_pred_rnn_GRU['Prediction'].map(lambda x:1 if x>=0.5 else 0)"
      ],
      "execution_count": null,
      "outputs": []
    },
    {
      "cell_type": "code",
      "metadata": {
        "id": "kKqTe8egVj69",
        "colab_type": "code",
        "colab": {
          "base_uri": "https://localhost:8080/",
          "height": 51
        },
        "outputId": "d1bb9e46-a2e8-4103-eb3d-ba55492c87b8"
      },
      "source": [
        "#300\n",
        "print(accuracy_score(y_test, y_pred_rnn_GRU))\n",
        "print(roc_auc_score(y_test, y_pred_rnn_GRU))"
      ],
      "execution_count": null,
      "outputs": [
        {
          "output_type": "stream",
          "text": [
            "0.8346456692913385\n",
            "0.8340284673949024\n"
          ],
          "name": "stdout"
        }
      ]
    },
    {
      "cell_type": "markdown",
      "metadata": {
        "id": "_j2TTWfI3wNw",
        "colab_type": "text"
      },
      "source": [
        "#Conclusion\n",
        "\n",
        "The recurrent Neural Network based model involving the GloVe embedding fares far better in performance.\n",
        "<br>With the traditional ML algorithms Logistic Regression gives the best accuracy score of 77% with 0.72 ROC_AUC score.\n",
        "<br> With RNN using pretrained GloVe Embedding using GRU based model gave 83% accuracy with .83 Roc_Auc score"
      ]
    },
    {
      "cell_type": "markdown",
      "metadata": {
        "id": "1qmZa4nSI_ER",
        "colab_type": "text"
      },
      "source": [
        "# Pickling\n",
        "Pickling files to be used while deploying using API"
      ]
    },
    {
      "cell_type": "code",
      "metadata": {
        "id": "hRoIsTnDI_ES",
        "colab_type": "code",
        "colab": {}
      },
      "source": [
        "#we shortlist Linear regression model based on count vectoriser for further implementation\n",
        "LRML = open(\"censor_predict.pkl\",\"wb\")\n",
        "pickle.dump(lr_ctv,LRML)\n",
        "LRML.close()"
      ],
      "execution_count": null,
      "outputs": []
    },
    {
      "cell_type": "code",
      "metadata": {
        "id": "nopXl9GjI_EU",
        "colab_type": "code",
        "colab": {}
      },
      "source": [
        "HT = open(\"headline_transform.pkl\",\"wb\")\n",
        "pickle.dump(ctv,HT)\n",
        "HT.close()"
      ],
      "execution_count": null,
      "outputs": []
    }
  ]
}